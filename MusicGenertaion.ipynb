{
  "nbformat": 4,
  "nbformat_minor": 0,
  "metadata": {
    "colab": {
      "provenance": [],
      "gpuType": "T4",
      "include_colab_link": true
    },
    "kernelspec": {
      "name": "python3",
      "display_name": "Python 3"
    },
    "language_info": {
      "name": "python"
    },
    "accelerator": "GPU"
  },
  "cells": [
    {
      "cell_type": "markdown",
      "metadata": {
        "id": "view-in-github",
        "colab_type": "text"
      },
      "source": [
        "<a href=\"https://colab.research.google.com/github/Nikhil-S15/Music-Generation-LSTM/blob/main/MusicGenertaion.ipynb\" target=\"_parent\"><img src=\"https://colab.research.google.com/assets/colab-badge.svg\" alt=\"Open In Colab\"/></a>"
      ]
    },
    {
      "cell_type": "code",
      "execution_count": null,
      "metadata": {
        "colab": {
          "base_uri": "https://localhost:8080/"
        },
        "id": "Gsk6HdWohVQW",
        "outputId": "f9d1664f-e6cf-4594-d588-971c2e7d24d3"
      },
      "outputs": [
        {
          "output_type": "stream",
          "name": "stdout",
          "text": [
            "Mounted at /content/drive\n"
          ]
        }
      ],
      "source": [
        "from google.colab import drive\n",
        "drive.mount('/content/drive')\n",
        "\n"
      ]
    },
    {
      "cell_type": "code",
      "source": [
        "!pip install music21\n",
        "!apt-get install -y lilypond\n"
      ],
      "metadata": {
        "colab": {
          "base_uri": "https://localhost:8080/"
        },
        "id": "SZZSeoj_7X4N",
        "outputId": "1c8eacbc-f71b-43e4-b536-997522f55e61"
      },
      "execution_count": null,
      "outputs": [
        {
          "output_type": "stream",
          "name": "stdout",
          "text": [
            "Requirement already satisfied: music21 in /usr/local/lib/python3.10/dist-packages (9.1.0)\n",
            "Requirement already satisfied: chardet in /usr/local/lib/python3.10/dist-packages (from music21) (5.2.0)\n",
            "Requirement already satisfied: joblib in /usr/local/lib/python3.10/dist-packages (from music21) (1.4.2)\n",
            "Requirement already satisfied: jsonpickle in /usr/local/lib/python3.10/dist-packages (from music21) (3.2.1)\n",
            "Requirement already satisfied: matplotlib in /usr/local/lib/python3.10/dist-packages (from music21) (3.7.1)\n",
            "Requirement already satisfied: more-itertools in /usr/local/lib/python3.10/dist-packages (from music21) (10.1.0)\n",
            "Requirement already satisfied: numpy in /usr/local/lib/python3.10/dist-packages (from music21) (1.25.2)\n",
            "Requirement already satisfied: requests in /usr/local/lib/python3.10/dist-packages (from music21) (2.31.0)\n",
            "Requirement already satisfied: webcolors>=1.5 in /usr/local/lib/python3.10/dist-packages (from music21) (24.6.0)\n",
            "Requirement already satisfied: contourpy>=1.0.1 in /usr/local/lib/python3.10/dist-packages (from matplotlib->music21) (1.2.1)\n",
            "Requirement already satisfied: cycler>=0.10 in /usr/local/lib/python3.10/dist-packages (from matplotlib->music21) (0.12.1)\n",
            "Requirement already satisfied: fonttools>=4.22.0 in /usr/local/lib/python3.10/dist-packages (from matplotlib->music21) (4.53.0)\n",
            "Requirement already satisfied: kiwisolver>=1.0.1 in /usr/local/lib/python3.10/dist-packages (from matplotlib->music21) (1.4.5)\n",
            "Requirement already satisfied: packaging>=20.0 in /usr/local/lib/python3.10/dist-packages (from matplotlib->music21) (24.1)\n",
            "Requirement already satisfied: pillow>=6.2.0 in /usr/local/lib/python3.10/dist-packages (from matplotlib->music21) (9.4.0)\n",
            "Requirement already satisfied: pyparsing>=2.3.1 in /usr/local/lib/python3.10/dist-packages (from matplotlib->music21) (3.1.2)\n",
            "Requirement already satisfied: python-dateutil>=2.7 in /usr/local/lib/python3.10/dist-packages (from matplotlib->music21) (2.8.2)\n",
            "Requirement already satisfied: charset-normalizer<4,>=2 in /usr/local/lib/python3.10/dist-packages (from requests->music21) (3.3.2)\n",
            "Requirement already satisfied: idna<4,>=2.5 in /usr/local/lib/python3.10/dist-packages (from requests->music21) (3.7)\n",
            "Requirement already satisfied: urllib3<3,>=1.21.1 in /usr/local/lib/python3.10/dist-packages (from requests->music21) (2.0.7)\n",
            "Requirement already satisfied: certifi>=2017.4.17 in /usr/local/lib/python3.10/dist-packages (from requests->music21) (2024.6.2)\n",
            "Requirement already satisfied: six>=1.5 in /usr/local/lib/python3.10/dist-packages (from python-dateutil>=2.7->matplotlib->music21) (1.16.0)\n",
            "Reading package lists... Done\n",
            "Building dependency tree... Done\n",
            "Reading state information... Done\n",
            "The following additional packages will be installed:\n",
            "  dvisvgm fonts-droid-fallback fonts-lmodern fonts-noto-mono fonts-urw-base35 ghostscript\n",
            "  libfontenc1 libgs9 libgs9-common libidn12 libijs-0.35 libjbig2dec0 libkpathsea6 libptexenc1\n",
            "  libsynctex2 libteckit0 libtexlua53 libtexluajit2 libwoff1 libzzip-0-13 lilypond-data\n",
            "  lilypond-fonts lmodern poppler-data t1utils tex-common texlive-base texlive-binaries\n",
            "  texlive-latex-base xfonts-encodings xfonts-utils\n",
            "Suggested packages:\n",
            "  fonts-noto fonts-freefont-otf | fonts-freefont-ttf fonts-texgyre ghostscript-x lilypond-doc\n",
            "  python3-lxml poppler-utils fonts-japanese-mincho | fonts-ipafont-mincho fonts-japanese-gothic\n",
            "  | fonts-ipafont-gothic fonts-arphic-ukai fonts-arphic-uming fonts-nanum debhelper perl-tk xpdf\n",
            "  | pdf-viewer xzdec texlive-latex-base-doc\n",
            "The following NEW packages will be installed:\n",
            "  dvisvgm fonts-droid-fallback fonts-lmodern fonts-noto-mono fonts-urw-base35 ghostscript\n",
            "  libfontenc1 libgs9 libgs9-common libidn12 libijs-0.35 libjbig2dec0 libkpathsea6 libptexenc1\n",
            "  libsynctex2 libteckit0 libtexlua53 libtexluajit2 libwoff1 libzzip-0-13 lilypond lilypond-data\n",
            "  lilypond-fonts lmodern poppler-data t1utils tex-common texlive-base texlive-binaries\n",
            "  texlive-latex-base xfonts-encodings xfonts-utils\n",
            "0 upgraded, 32 newly installed, 0 to remove and 45 not upgraded.\n",
            "Need to get 70.9 MB of archives.\n",
            "After this operation, 242 MB of additional disk space will be used.\n",
            "Get:1 http://archive.ubuntu.com/ubuntu jammy/main amd64 fonts-droid-fallback all 1:6.0.1r16-1.1build1 [1,805 kB]\n",
            "Get:2 http://archive.ubuntu.com/ubuntu jammy/main amd64 poppler-data all 0.4.11-1 [2,171 kB]\n",
            "Get:3 http://archive.ubuntu.com/ubuntu jammy/universe amd64 tex-common all 6.17 [33.7 kB]\n",
            "Get:4 http://archive.ubuntu.com/ubuntu jammy/main amd64 fonts-urw-base35 all 20200910-1 [6,367 kB]\n",
            "Get:5 http://archive.ubuntu.com/ubuntu jammy-updates/main amd64 libgs9-common all 9.55.0~dfsg1-0ubuntu5.7 [752 kB]\n",
            "Get:6 http://archive.ubuntu.com/ubuntu jammy-updates/main amd64 libidn12 amd64 1.38-4ubuntu1 [60.0 kB]\n",
            "Get:7 http://archive.ubuntu.com/ubuntu jammy/main amd64 libijs-0.35 amd64 0.35-15build2 [16.5 kB]\n",
            "Get:8 http://archive.ubuntu.com/ubuntu jammy/main amd64 libjbig2dec0 amd64 0.19-3build2 [64.7 kB]\n",
            "Get:9 http://archive.ubuntu.com/ubuntu jammy-updates/main amd64 libgs9 amd64 9.55.0~dfsg1-0ubuntu5.7 [5,028 kB]\n",
            "Get:10 http://archive.ubuntu.com/ubuntu jammy-updates/main amd64 libkpathsea6 amd64 2021.20210626.59705-1ubuntu0.2 [60.4 kB]\n",
            "Get:11 http://archive.ubuntu.com/ubuntu jammy/main amd64 libwoff1 amd64 1.0.2-1build4 [45.2 kB]\n",
            "Get:12 http://archive.ubuntu.com/ubuntu jammy/universe amd64 dvisvgm amd64 2.13.1-1 [1,221 kB]\n",
            "Get:13 http://archive.ubuntu.com/ubuntu jammy/universe amd64 fonts-lmodern all 2.004.5-6.1 [4,532 kB]\n",
            "Get:14 http://archive.ubuntu.com/ubuntu jammy/main amd64 fonts-noto-mono all 20201225-1build1 [397 kB]\n",
            "Get:15 http://archive.ubuntu.com/ubuntu jammy-updates/main amd64 ghostscript amd64 9.55.0~dfsg1-0ubuntu5.7 [49.4 kB]\n",
            "Get:16 http://archive.ubuntu.com/ubuntu jammy/main amd64 libfontenc1 amd64 1:1.1.4-1build3 [14.7 kB]\n",
            "Get:17 http://archive.ubuntu.com/ubuntu jammy-updates/main amd64 libptexenc1 amd64 2021.20210626.59705-1ubuntu0.2 [39.1 kB]\n",
            "Get:18 http://archive.ubuntu.com/ubuntu jammy-updates/main amd64 libsynctex2 amd64 2021.20210626.59705-1ubuntu0.2 [55.6 kB]\n",
            "Get:19 http://archive.ubuntu.com/ubuntu jammy/universe amd64 libteckit0 amd64 2.5.11+ds1-1 [421 kB]\n",
            "Get:20 http://archive.ubuntu.com/ubuntu jammy-updates/main amd64 libtexlua53 amd64 2021.20210626.59705-1ubuntu0.2 [120 kB]\n",
            "Get:21 http://archive.ubuntu.com/ubuntu jammy-updates/main amd64 libtexluajit2 amd64 2021.20210626.59705-1ubuntu0.2 [267 kB]\n",
            "Get:22 http://archive.ubuntu.com/ubuntu jammy/universe amd64 libzzip-0-13 amd64 0.13.72+dfsg.1-1.1 [27.0 kB]\n",
            "Get:23 http://archive.ubuntu.com/ubuntu jammy/universe amd64 lilypond-fonts all 2.22.1-2 [2,296 kB]\n",
            "Get:24 http://archive.ubuntu.com/ubuntu jammy/universe amd64 lilypond-data all 2.22.1-2 [818 kB]\n",
            "Get:25 http://archive.ubuntu.com/ubuntu jammy/universe amd64 lilypond amd64 2.22.1-2 [2,046 kB]\n",
            "Get:26 http://archive.ubuntu.com/ubuntu jammy/main amd64 xfonts-encodings all 1:1.0.5-0ubuntu2 [578 kB]\n",
            "Get:27 http://archive.ubuntu.com/ubuntu jammy/main amd64 xfonts-utils amd64 1:7.7+6build2 [94.6 kB]\n",
            "Get:28 http://archive.ubuntu.com/ubuntu jammy/universe amd64 lmodern all 2.004.5-6.1 [9,471 kB]\n",
            "Get:29 http://archive.ubuntu.com/ubuntu jammy/main amd64 t1utils amd64 1.41-4build2 [61.3 kB]\n",
            "Get:30 http://archive.ubuntu.com/ubuntu jammy-updates/universe amd64 texlive-binaries amd64 2021.20210626.59705-1ubuntu0.2 [9,860 kB]\n",
            "Get:31 http://archive.ubuntu.com/ubuntu jammy/universe amd64 texlive-base all 2021.20220204-1 [21.0 MB]\n",
            "Get:32 http://archive.ubuntu.com/ubuntu jammy/universe amd64 texlive-latex-base all 2021.20220204-1 [1,128 kB]\n",
            "Fetched 70.9 MB in 3s (25.3 MB/s)\n",
            "Extracting templates from packages: 100%\n",
            "Preconfiguring packages ...\n",
            "Selecting previously unselected package fonts-droid-fallback.\n",
            "(Reading database ... 121925 files and directories currently installed.)\n",
            "Preparing to unpack .../00-fonts-droid-fallback_1%3a6.0.1r16-1.1build1_all.deb ...\n",
            "Unpacking fonts-droid-fallback (1:6.0.1r16-1.1build1) ...\n",
            "Selecting previously unselected package poppler-data.\n",
            "Preparing to unpack .../01-poppler-data_0.4.11-1_all.deb ...\n",
            "Unpacking poppler-data (0.4.11-1) ...\n",
            "Selecting previously unselected package tex-common.\n",
            "Preparing to unpack .../02-tex-common_6.17_all.deb ...\n",
            "Unpacking tex-common (6.17) ...\n",
            "Selecting previously unselected package fonts-urw-base35.\n",
            "Preparing to unpack .../03-fonts-urw-base35_20200910-1_all.deb ...\n",
            "Unpacking fonts-urw-base35 (20200910-1) ...\n",
            "Selecting previously unselected package libgs9-common.\n",
            "Preparing to unpack .../04-libgs9-common_9.55.0~dfsg1-0ubuntu5.7_all.deb ...\n",
            "Unpacking libgs9-common (9.55.0~dfsg1-0ubuntu5.7) ...\n",
            "Selecting previously unselected package libidn12:amd64.\n",
            "Preparing to unpack .../05-libidn12_1.38-4ubuntu1_amd64.deb ...\n",
            "Unpacking libidn12:amd64 (1.38-4ubuntu1) ...\n",
            "Selecting previously unselected package libijs-0.35:amd64.\n",
            "Preparing to unpack .../06-libijs-0.35_0.35-15build2_amd64.deb ...\n",
            "Unpacking libijs-0.35:amd64 (0.35-15build2) ...\n",
            "Selecting previously unselected package libjbig2dec0:amd64.\n",
            "Preparing to unpack .../07-libjbig2dec0_0.19-3build2_amd64.deb ...\n",
            "Unpacking libjbig2dec0:amd64 (0.19-3build2) ...\n",
            "Selecting previously unselected package libgs9:amd64.\n",
            "Preparing to unpack .../08-libgs9_9.55.0~dfsg1-0ubuntu5.7_amd64.deb ...\n",
            "Unpacking libgs9:amd64 (9.55.0~dfsg1-0ubuntu5.7) ...\n",
            "Selecting previously unselected package libkpathsea6:amd64.\n",
            "Preparing to unpack .../09-libkpathsea6_2021.20210626.59705-1ubuntu0.2_amd64.deb ...\n",
            "Unpacking libkpathsea6:amd64 (2021.20210626.59705-1ubuntu0.2) ...\n",
            "Selecting previously unselected package libwoff1:amd64.\n",
            "Preparing to unpack .../10-libwoff1_1.0.2-1build4_amd64.deb ...\n",
            "Unpacking libwoff1:amd64 (1.0.2-1build4) ...\n",
            "Selecting previously unselected package dvisvgm.\n",
            "Preparing to unpack .../11-dvisvgm_2.13.1-1_amd64.deb ...\n",
            "Unpacking dvisvgm (2.13.1-1) ...\n",
            "Selecting previously unselected package fonts-lmodern.\n",
            "Preparing to unpack .../12-fonts-lmodern_2.004.5-6.1_all.deb ...\n",
            "Unpacking fonts-lmodern (2.004.5-6.1) ...\n",
            "Selecting previously unselected package fonts-noto-mono.\n",
            "Preparing to unpack .../13-fonts-noto-mono_20201225-1build1_all.deb ...\n",
            "Unpacking fonts-noto-mono (20201225-1build1) ...\n",
            "Selecting previously unselected package ghostscript.\n",
            "Preparing to unpack .../14-ghostscript_9.55.0~dfsg1-0ubuntu5.7_amd64.deb ...\n",
            "Unpacking ghostscript (9.55.0~dfsg1-0ubuntu5.7) ...\n",
            "Selecting previously unselected package libfontenc1:amd64.\n",
            "Preparing to unpack .../15-libfontenc1_1%3a1.1.4-1build3_amd64.deb ...\n",
            "Unpacking libfontenc1:amd64 (1:1.1.4-1build3) ...\n",
            "Selecting previously unselected package libptexenc1:amd64.\n",
            "Preparing to unpack .../16-libptexenc1_2021.20210626.59705-1ubuntu0.2_amd64.deb ...\n",
            "Unpacking libptexenc1:amd64 (2021.20210626.59705-1ubuntu0.2) ...\n",
            "Selecting previously unselected package libsynctex2:amd64.\n",
            "Preparing to unpack .../17-libsynctex2_2021.20210626.59705-1ubuntu0.2_amd64.deb ...\n",
            "Unpacking libsynctex2:amd64 (2021.20210626.59705-1ubuntu0.2) ...\n",
            "Selecting previously unselected package libteckit0:amd64.\n",
            "Preparing to unpack .../18-libteckit0_2.5.11+ds1-1_amd64.deb ...\n",
            "Unpacking libteckit0:amd64 (2.5.11+ds1-1) ...\n",
            "Selecting previously unselected package libtexlua53:amd64.\n",
            "Preparing to unpack .../19-libtexlua53_2021.20210626.59705-1ubuntu0.2_amd64.deb ...\n",
            "Unpacking libtexlua53:amd64 (2021.20210626.59705-1ubuntu0.2) ...\n",
            "Selecting previously unselected package libtexluajit2:amd64.\n",
            "Preparing to unpack .../20-libtexluajit2_2021.20210626.59705-1ubuntu0.2_amd64.deb ...\n",
            "Unpacking libtexluajit2:amd64 (2021.20210626.59705-1ubuntu0.2) ...\n",
            "Selecting previously unselected package libzzip-0-13:amd64.\n",
            "Preparing to unpack .../21-libzzip-0-13_0.13.72+dfsg.1-1.1_amd64.deb ...\n",
            "Unpacking libzzip-0-13:amd64 (0.13.72+dfsg.1-1.1) ...\n",
            "Selecting previously unselected package lilypond-fonts.\n",
            "Preparing to unpack .../22-lilypond-fonts_2.22.1-2_all.deb ...\n",
            "Unpacking lilypond-fonts (2.22.1-2) ...\n",
            "Selecting previously unselected package lilypond-data.\n",
            "Preparing to unpack .../23-lilypond-data_2.22.1-2_all.deb ...\n",
            "Unpacking lilypond-data (2.22.1-2) ...\n",
            "Selecting previously unselected package lilypond.\n",
            "Preparing to unpack .../24-lilypond_2.22.1-2_amd64.deb ...\n",
            "Unpacking lilypond (2.22.1-2) ...\n",
            "Selecting previously unselected package xfonts-encodings.\n",
            "Preparing to unpack .../25-xfonts-encodings_1%3a1.0.5-0ubuntu2_all.deb ...\n",
            "Unpacking xfonts-encodings (1:1.0.5-0ubuntu2) ...\n",
            "Selecting previously unselected package xfonts-utils.\n",
            "Preparing to unpack .../26-xfonts-utils_1%3a7.7+6build2_amd64.deb ...\n",
            "Unpacking xfonts-utils (1:7.7+6build2) ...\n",
            "Selecting previously unselected package lmodern.\n",
            "Preparing to unpack .../27-lmodern_2.004.5-6.1_all.deb ...\n",
            "Unpacking lmodern (2.004.5-6.1) ...\n",
            "Selecting previously unselected package t1utils.\n",
            "Preparing to unpack .../28-t1utils_1.41-4build2_amd64.deb ...\n",
            "Unpacking t1utils (1.41-4build2) ...\n",
            "Selecting previously unselected package texlive-binaries.\n",
            "Preparing to unpack .../29-texlive-binaries_2021.20210626.59705-1ubuntu0.2_amd64.deb ...\n",
            "Unpacking texlive-binaries (2021.20210626.59705-1ubuntu0.2) ...\n",
            "Selecting previously unselected package texlive-base.\n",
            "Preparing to unpack .../30-texlive-base_2021.20220204-1_all.deb ...\n",
            "Unpacking texlive-base (2021.20220204-1) ...\n",
            "Selecting previously unselected package texlive-latex-base.\n",
            "Preparing to unpack .../31-texlive-latex-base_2021.20220204-1_all.deb ...\n",
            "Unpacking texlive-latex-base (2021.20220204-1) ...\n",
            "Setting up fonts-noto-mono (20201225-1build1) ...\n",
            "Setting up libwoff1:amd64 (1.0.2-1build4) ...\n",
            "Setting up libtexlua53:amd64 (2021.20210626.59705-1ubuntu0.2) ...\n",
            "Setting up libijs-0.35:amd64 (0.35-15build2) ...\n",
            "Setting up libtexluajit2:amd64 (2021.20210626.59705-1ubuntu0.2) ...\n",
            "Setting up libzzip-0-13:amd64 (0.13.72+dfsg.1-1.1) ...\n",
            "Setting up fonts-urw-base35 (20200910-1) ...\n",
            "Setting up poppler-data (0.4.11-1) ...\n",
            "Setting up tex-common (6.17) ...\n",
            "update-language: texlive-base not installed and configured, doing nothing!\n",
            "Setting up libfontenc1:amd64 (1:1.1.4-1build3) ...\n",
            "Setting up libjbig2dec0:amd64 (0.19-3build2) ...\n",
            "Setting up libteckit0:amd64 (2.5.11+ds1-1) ...\n",
            "Setting up xfonts-encodings (1:1.0.5-0ubuntu2) ...\n",
            "Setting up t1utils (1.41-4build2) ...\n",
            "Setting up libidn12:amd64 (1.38-4ubuntu1) ...\n",
            "Setting up lilypond-fonts (2.22.1-2) ...\n",
            "Setting up libkpathsea6:amd64 (2021.20210626.59705-1ubuntu0.2) ...\n",
            "Setting up fonts-lmodern (2.004.5-6.1) ...\n",
            "Setting up fonts-droid-fallback (1:6.0.1r16-1.1build1) ...\n",
            "Setting up libsynctex2:amd64 (2021.20210626.59705-1ubuntu0.2) ...\n",
            "Setting up libgs9-common (9.55.0~dfsg1-0ubuntu5.7) ...\n",
            "Setting up libgs9:amd64 (9.55.0~dfsg1-0ubuntu5.7) ...\n",
            "Setting up lilypond-data (2.22.1-2) ...\n",
            "Setting up dvisvgm (2.13.1-1) ...\n",
            "Setting up ghostscript (9.55.0~dfsg1-0ubuntu5.7) ...\n",
            "Setting up xfonts-utils (1:7.7+6build2) ...\n",
            "Setting up libptexenc1:amd64 (2021.20210626.59705-1ubuntu0.2) ...\n",
            "Setting up lilypond (2.22.1-2) ...\n",
            "Setting up texlive-binaries (2021.20210626.59705-1ubuntu0.2) ...\n",
            "update-alternatives: using /usr/bin/xdvi-xaw to provide /usr/bin/xdvi.bin (xdvi.bin) in auto mode\n",
            "update-alternatives: using /usr/bin/bibtex.original to provide /usr/bin/bibtex (bibtex) in auto mode\n",
            "Setting up lmodern (2.004.5-6.1) ...\n",
            "Setting up texlive-base (2021.20220204-1) ...\n",
            "/usr/bin/ucfr\n",
            "/usr/bin/ucfr\n",
            "/usr/bin/ucfr\n",
            "/usr/bin/ucfr\n",
            "mktexlsr: Updating /var/lib/texmf/ls-R-TEXLIVEDIST... \n",
            "mktexlsr: Updating /var/lib/texmf/ls-R-TEXMFMAIN... \n",
            "mktexlsr: Updating /var/lib/texmf/ls-R... \n",
            "mktexlsr: Done.\n",
            "tl-paper: setting paper size for dvips to a4: /var/lib/texmf/dvips/config/config-paper.ps\n",
            "tl-paper: setting paper size for dvipdfmx to a4: /var/lib/texmf/dvipdfmx/dvipdfmx-paper.cfg\n",
            "tl-paper: setting paper size for xdvi to a4: /var/lib/texmf/xdvi/XDvi-paper\n",
            "tl-paper: setting paper size for pdftex to a4: /var/lib/texmf/tex/generic/tex-ini-files/pdftexconfig.tex\n",
            "Setting up texlive-latex-base (2021.20220204-1) ...\n",
            "Processing triggers for libc-bin (2.35-0ubuntu3.4) ...\n",
            "/sbin/ldconfig.real: /usr/local/lib/libtbbmalloc.so.2 is not a symbolic link\n",
            "\n",
            "/sbin/ldconfig.real: /usr/local/lib/libtbb.so.12 is not a symbolic link\n",
            "\n",
            "/sbin/ldconfig.real: /usr/local/lib/libtbbbind_2_5.so.3 is not a symbolic link\n",
            "\n",
            "/sbin/ldconfig.real: /usr/local/lib/libtbbmalloc_proxy.so.2 is not a symbolic link\n",
            "\n",
            "/sbin/ldconfig.real: /usr/local/lib/libtbbbind.so.3 is not a symbolic link\n",
            "\n",
            "/sbin/ldconfig.real: /usr/local/lib/libtbbbind_2_0.so.3 is not a symbolic link\n",
            "\n",
            "Processing triggers for man-db (2.10.2-1) ...\n",
            "Processing triggers for fontconfig (2.13.1-4.2ubuntu5) ...\n",
            "Processing triggers for tex-common (6.17) ...\n",
            "Running updmap-sys. This may take some time... done.\n",
            "Running mktexlsr /var/lib/texmf ... done.\n",
            "Building format(s) --all.\n",
            "\tThis may take some time... done.\n"
          ]
        }
      ]
    },
    {
      "cell_type": "code",
      "source": [
        "import os\n",
        "import tensorflow as tf\n",
        "import numpy as np\n",
        "import pandas as pd\n",
        "from collections import Counter\n",
        "import random\n",
        "import IPython\n",
        "from IPython.display import Image, Audio\n",
        "import music21\n",
        "from music21 import *\n",
        "import matplotlib.pyplot as plt\n",
        "from sklearn.model_selection import train_test_split\n",
        "from tensorflow.keras.models import Sequential\n",
        "from tensorflow.keras.layers import LSTM, Dense, Dropout\n",
        "from tensorflow.keras.optimizers import Adamax\n",
        "import seaborn as sns\n",
        "import matplotlib.patches as mpatches\n",
        "import warnings\n",
        "warnings.filterwarnings(\"ignore\")\n",
        "np.random.seed(42)\n"
      ],
      "metadata": {
        "id": "I0Tv_wv47dwA"
      },
      "execution_count": null,
      "outputs": []
    },
    {
      "cell_type": "code",
      "source": [
        "import os\n",
        "\n",
        "# List the contents of the root directory\n",
        "print(os.listdir('/content/drive'))"
      ],
      "metadata": {
        "colab": {
          "base_uri": "https://localhost:8080/"
        },
        "id": "CCbZffgK9G6a",
        "outputId": "dc67d0ac-b9a8-4057-bfea-92287add1736"
      },
      "execution_count": null,
      "outputs": [
        {
          "output_type": "stream",
          "name": "stdout",
          "text": [
            "['.file-revisions-by-id', 'MyDrive', '.shortcut-targets-by-id', '.Trash-0']\n"
          ]
        }
      ]
    },
    {
      "cell_type": "code",
      "source": [
        "print(os.listdir('/content/drive/My Drive'))"
      ],
      "metadata": {
        "colab": {
          "base_uri": "https://localhost:8080/"
        },
        "id": "UGblGWhC9JXZ",
        "outputId": "530f858e-0bc9-4ba8-fa0e-d9ab1c3d04fd"
      },
      "execution_count": null,
      "outputs": [
        {
          "output_type": "stream",
          "name": "stdout",
          "text": [
            "['Getting started.pdf', 'pyary (3).pptx', 'Untitled spreadsheet.gsheet', 'IMG_20200803_081218.jpg', 'RegisteredStudentBillReport (2) (1).pdf', 'RegisteredStudentBillReport (2).pdf', 'pyary (2).pptx', 'pyary (1).pptx', 'pyary.pptx', 'seminar.pptx', 'NIKHIL FINAL PPT (10).pptx', 'PQ Assignment.pdf', 'NIKHIL FINAL PPT (9).pptx', 'NIKHIL FINAL PPT (8).pptx', 'NIKHIL FINAL PPT (7).pptx', 'NIKHIL FINAL PPT (6).pptx', 'NIKHIL FINAL PPT (5).pptx', 'NIKHIL FINAL PPT (4).pptx', 'NIKHIL FINAL PPT (3).pptx', 'THE TARIFFS OF TOMORROW (2).pptx', 'THE TARIFFS OF TOMORROW (1).pptx', 'THE TARIFFS OF TOMORROW.pptx', 'EC Assignment 1 (2).pdf', 'EC Assignment 1 (1).pdf', 'EC Assignment 1.pdf', 'LCS mod-5.pdf', 'LCS mod-5.gdoc', 'NIKHIL FINAL PPT (2).pptx', 'NIKHIL FINAL PPT.ppt', 'NIKHIL FINAL PPT (1).pptx', 'NIKHIL FINAL PPT.pptx', 'CamScanner 10-23-2020 12.28.22.pdf', 'CamScanner.pdf', '1-seminar 2 paper.pdf', 'Exp..pdf', '45DBE5B8-646C-4C5B-80C2-811F68F0854B.jpeg', '3A692A26-A03C-46E9-9454-05A3C27B5E6D.jpeg', 'F9CEE9AB-CC42-4514-9A97-18AA9651C104.jpeg', 'NIKHIL PPT (1).pptx', 'NIKHIL PPT.pptx', 'Document from 😁.pdf', 'Document from 😁 (2)', 'Document from 😁 (1)', 'sem nikhil.docx', 'Resume (3).gdoc', 'Copy of Full (TP publications ).pdf', 'Document from 😁', 'Untitled form (2).gform', 'Untitled form (1).gform', 'Untitled form.gform', '421B0360-E5F6-4037-B2F0-2DB09156D756.png', 'Resume (2).gdoc', 'MACHINE LEARNING CASESTUDY.gslides', 'Resume (1).gdoc', 'Resume.gdoc', 'Nikhil(Resume).gdoc', 'Untitled document (1).gdoc', 'Colab Notebooks', 'Untitled document.gdoc', 'Untitled presentation (1).gslides', 'Untitled presentation.gslides', 'classical-music-midi', 'kkkk']\n"
          ]
        }
      ]
    },
    {
      "cell_type": "code",
      "source": [
        "print(os.listdir('/content/drive/My Drive/classical-music-midi'))"
      ],
      "metadata": {
        "colab": {
          "base_uri": "https://localhost:8080/"
        },
        "id": "FG7cBJNA9PIi",
        "outputId": "c7d91d09-bc7a-4046-cc42-b687cd657c38"
      },
      "execution_count": null,
      "outputs": [
        {
          "output_type": "stream",
          "name": "stdout",
          "text": [
            "['.DS_Store', 'muss', 'brahms', 'mendelssohn', 'borodin', 'schubert', 'debussy', 'granados', 'grieg', 'bach', 'albeniz', 'balakir', 'burgm', 'haydn', 'liszt', 'beeth', 'schumann', 'chopin', 'mozart', 'tschai']\n"
          ]
        }
      ]
    },
    {
      "cell_type": "code",
      "source": [
        "filepath = \"/content/drive/My Drive/classical-music-midi/chopin/\"\n",
        "all_midis= []\n",
        "for i in os.listdir(filepath):\n",
        "    if i.endswith(\".mid\"):\n",
        "        tr = filepath + i\n",
        "        midi = converter.parse(tr)\n",
        "        all_midis.append(midi)\n"
      ],
      "metadata": {
        "id": "LpxHNWPM7ldM"
      },
      "execution_count": null,
      "outputs": []
    },
    {
      "cell_type": "code",
      "source": [
        "#Helping function\n",
        "def extract_notes(file):\n",
        "    notes = []\n",
        "    pick = None\n",
        "    for j in file:\n",
        "        songs = instrument.partitionByInstrument(j)\n",
        "        for part in songs.parts:\n",
        "            pick = part.recurse()\n",
        "            for element in pick:\n",
        "                if isinstance(element, note.Note):\n",
        "                    notes.append(str(element.pitch))\n",
        "                elif isinstance(element, chord.Chord):\n",
        "                    notes.append(\".\".join(str(n) for n in element.normalOrder))\n",
        "\n",
        "    return notes\n",
        "#Getting the list of notes as Corpus\n",
        "Corpus= extract_notes(all_midis)\n",
        "print(\"Total notes in all the Chopin midis in the dataset:\", len(Corpus))"
      ],
      "metadata": {
        "colab": {
          "base_uri": "https://localhost:8080/"
        },
        "id": "RecR3izW_hTR",
        "outputId": "6f0dda27-cd2d-4486-d2e9-399b6c66414d"
      },
      "execution_count": null,
      "outputs": [
        {
          "output_type": "stream",
          "name": "stdout",
          "text": [
            "Total notes in all the Chopin midis in the dataset: 57894\n"
          ]
        }
      ]
    },
    {
      "cell_type": "code",
      "source": [
        "print(\"First fifty values in the Corpus:\", Corpus[:50])"
      ],
      "metadata": {
        "colab": {
          "base_uri": "https://localhost:8080/"
        },
        "id": "LMfRpGo__r3T",
        "outputId": "2880c3b7-29d2-4e5d-8c93-c162b13c4afa"
      },
      "execution_count": null,
      "outputs": [
        {
          "output_type": "stream",
          "name": "stdout",
          "text": [
            "First fifty values in the Corpus: ['E5', 'F5', 'E5', 'D5', '2.5.9', 'F5', '2.5.9', 'F5', '5.9.0', 'E5', '9.0.4', '2.4', 'D5', 'C#5', 'D5', '2.4.8', 'E-5', 'E5', '2.4.8', 'B4', 'D5', 'A2', 'C5', '0.4', 'A4', 'B4', 'A4', 'G#4', '0.4', 'A4', 'A2', 'B4', 'E5', '4.7.11', 'B2', 'B4', 'G4', 'E4', '7.11', 'B4', 'E-4', '6.11', 'E4', '4.7.11', 'E2', 'E5', 'F5', 'E5', 'D5', '2.5.9']\n"
          ]
        }
      ]
    },
    {
      "cell_type": "code",
      "source": [
        "#First Lets write some functions that we need to look into the data\n",
        "def show(music):\n",
        "    display(Image(str(music.write(\"lily.png\"))))\n",
        "\n",
        "def chords_n_notes(Snippet):\n",
        "    Melody = []\n",
        "    offset = 0 #Incremental\n",
        "    for i in Snippet:\n",
        "        #If it is chord\n",
        "        if (\".\" in i or i.isdigit()):\n",
        "            chord_notes = i.split(\".\") #Seperating the notes in chord\n",
        "            notes = []\n",
        "            for j in chord_notes:\n",
        "                inst_note=int(j)\n",
        "                note_snip = note.Note(inst_note)\n",
        "                notes.append(note_snip)\n",
        "                chord_snip = chord.Chord(notes)\n",
        "                chord_snip.offset = offset\n",
        "                Melody.append(chord_snip)\n",
        "        # pattern is a note\n",
        "        else:\n",
        "            note_snip = note.Note(i)\n",
        "            note_snip.offset = offset\n",
        "            Melody.append(note_snip)\n",
        "        # increase offset each iteration so that notes do not stack\n",
        "        offset += 1\n",
        "    Melody_midi = stream.Stream(Melody)\n",
        "    return Melody_midi\n",
        "\n",
        "Melody_Snippet = chords_n_notes(Corpus[:100])\n",
        "show(Melody_Snippet)"
      ],
      "metadata": {
        "colab": {
          "base_uri": "https://localhost:8080/",
          "height": 494
        },
        "id": "JlF4uPZSXqoQ",
        "outputId": "7bcc42cd-63dc-4edc-f743-40e9e537ee27"
      },
      "execution_count": null,
      "outputs": [
        {
          "output_type": "display_data",
          "data": {
            "image/png": "[encoded data removed]",
            "text/plain": [
              "<IPython.core.display.Image object>"
            ]
          },
          "metadata": {}
        }
      ]
    },
    {
      "cell_type": "code",
      "source": [
        "count_num = Counter(Corpus)\n",
        "print(\"Total unique notes in the Corpus:\", len(count_num))\n",
        "\n",
        "Notes = list(count_num.keys())\n",
        "Recurrence = list(count_num.values())\n",
        "\n",
        "def Average(lst):\n",
        "    return sum(lst) / len(lst)\n",
        "print(\"Average recurrence for a note in Corpus:\", Average(Recurrence))\n",
        "print(\"Most frequent note in Corpus appeared:\", max(Recurrence), \"times\")\n",
        "print(\"Least frequent note in Corpus appeared:\", min(Recurrence), \"time\")"
      ],
      "metadata": {
        "colab": {
          "base_uri": "https://localhost:8080/"
        },
        "id": "FUwFMfX8_4Tu",
        "outputId": "63b34ef0-c3d1-4022-c431-6729d9191a2e"
      },
      "execution_count": null,
      "outputs": [
        {
          "output_type": "stream",
          "name": "stdout",
          "text": [
            "Total unique notes in the Corpus: 397\n",
            "Average recurrence for a note in Corpus: 145.8287153652393\n",
            "Most frequent note in Corpus appeared: 1627 times\n",
            "Least frequent note in Corpus appeared: 1 time\n"
          ]
        }
      ]
    },
    {
      "cell_type": "code",
      "source": [
        "\n",
        "\n",
        "plt.figure(figsize=(18,3))\n",
        "bins = np.arange(0, (max(Recurrence)), 50)\n",
        "plt.hist(Recurrence, bins=bins)\n",
        "plt.axvline(x=100, color=\"red\")\n",
        "plt.title(\"Frequency Distribution Of Notes In The Corpus\")\n",
        "plt.xlabel(\"Frequency Of Chords in Corpus\")\n",
        "plt.ylabel(\"Number Of Chords\")\n",
        "plt.show()\n",
        "\n",
        "rare_note = [key for key, value in count_num.items() if value < 100]\n",
        "print(\"Total number of notes that occur less than 100 times:\", len(rare_note))\n",
        "\n",
        "Corpus = [element for element in Corpus if element not in rare_note]\n",
        "print(\"Length of Corpus after eliminating the rare notes:\", len(Corpus))"
      ],
      "metadata": {
        "colab": {
          "base_uri": "https://localhost:8080/",
          "height": 368
        },
        "id": "6gzkfBBB__VV",
        "outputId": "c7f3146c-e132-4b9a-aaf2-7c7200f97d45"
      },
      "execution_count": null,
      "outputs": [
        {
          "output_type": "display_data",
          "data": {
            "text/plain": [
              "<Figure size 1800x300 with 1 Axes>"
            ],
            "image/png": "[encoded data removed]"
          },
          "metadata": {
            "image/png": {
              "width": 1470,
              "height": 315
            }
          }
        },
        {
          "output_type": "stream",
          "name": "stdout",
          "text": [
            "Total number of notes that occur less than 100 times: 270\n",
            "Length of Corpus after eliminating the rare notes: 53110\n"
          ]
        }
      ]
    },
    {
      "cell_type": "code",
      "source": [
        "#Getting a list of rare chords\n",
        "rare_note = []\n",
        "for index, (key, value) in enumerate(count_num.items()):\n",
        "    if value < 100:\n",
        "        m =  key\n",
        "        rare_note.append(m)\n",
        "\n",
        "print(\"Total number of notes that occur less than 100 times:\", len(rare_note))"
      ],
      "metadata": {
        "colab": {
          "base_uri": "https://localhost:8080/"
        },
        "id": "zNtEcZ9XYKCf",
        "outputId": "980c5ae0-3a08-49c5-8bf1-3338d313e8c4"
      },
      "execution_count": null,
      "outputs": [
        {
          "output_type": "stream",
          "name": "stdout",
          "text": [
            "Total number of notes that occur less than 100 times: 270\n"
          ]
        }
      ]
    },
    {
      "cell_type": "code",
      "source": [
        "#Eleminating the rare notes\n",
        "for element in Corpus:\n",
        "    if element in rare_note:\n",
        "        Corpus.remove(element)\n",
        "\n",
        "print(\"Length of Corpus after elemination the rare notes:\", len(Corpus))"
      ],
      "metadata": {
        "colab": {
          "base_uri": "https://localhost:8080/"
        },
        "id": "ii8R4iCmYPSj",
        "outputId": "fd8f2f2e-5091-4529-d1be-f12766119858"
      },
      "execution_count": null,
      "outputs": [
        {
          "output_type": "stream",
          "name": "stdout",
          "text": [
            "Length of Corpus after elemination the rare notes: 53110\n"
          ]
        }
      ]
    },
    {
      "cell_type": "code",
      "source": [
        "# Storing all the unique characters present in my corpus to bult a mapping dic.\n",
        "symb = sorted(list(set(Corpus)))\n",
        "\n",
        "L_corpus = len(Corpus) #length of corpus\n",
        "L_symb = len(symb) #length of total unique characters\n",
        "\n",
        "#Building dictionary to access the vocabulary from indices and vice versa\n",
        "mapping = dict((c, i) for i, c in enumerate(symb))\n",
        "reverse_mapping = dict((i, c) for i, c in enumerate(symb))\n",
        "\n",
        "print(\"Total number of characters:\", L_corpus)\n",
        "print(\"Number of unique characters:\", L_symb)"
      ],
      "metadata": {
        "colab": {
          "base_uri": "https://localhost:8080/"
        },
        "id": "4mz3eGf1ADGf",
        "outputId": "392d91da-d8f2-4f52-e9a4-d4477819173c"
      },
      "execution_count": null,
      "outputs": [
        {
          "output_type": "stream",
          "name": "stdout",
          "text": [
            "Total number of characters: 53110\n",
            "Number of unique characters: 127\n"
          ]
        }
      ]
    },
    {
      "cell_type": "code",
      "source": [
        "length = 40\n",
        "features = []\n",
        "targets = []\n",
        "for i in range(0, L_corpus - length, 1):\n",
        "    feature = Corpus[i:i + length]\n",
        "    target = Corpus[i + length]\n",
        "    features.append([mapping[j] for j in feature])\n",
        "    targets.append(mapping[target])\n",
        "\n",
        "L_datapoints = len(targets)\n",
        "print(\"Total number of sequences in the Corpus:\", L_datapoints)\n",
        "\n"
      ],
      "metadata": {
        "colab": {
          "base_uri": "https://localhost:8080/"
        },
        "id": "WG6EjbGXAFVV",
        "outputId": "4480c9de-3103-4195-bcfb-5fcb9275e8eb"
      },
      "execution_count": null,
      "outputs": [
        {
          "output_type": "stream",
          "name": "stdout",
          "text": [
            "Total number of sequences in the Corpus: 53070\n"
          ]
        }
      ]
    },
    {
      "cell_type": "code",
      "source": [
        "X = np.reshape(features, (L_datapoints, length, 1)) / float(L_symb)\n",
        "y = tf.keras.utils.to_categorical(targets)\n",
        "\n",
        "\n"
      ],
      "metadata": {
        "id": "hqAAsgn_Yejr"
      },
      "execution_count": null,
      "outputs": []
    },
    {
      "cell_type": "code",
      "source": [
        "#Taking out a subset of data to be used as seed\n",
        "X_train, X_seed, y_train, y_seed = train_test_split(X, y, test_size=0.2, random_state=42)"
      ],
      "metadata": {
        "id": "tnXCB6mXYrx9"
      },
      "execution_count": null,
      "outputs": []
    },
    {
      "cell_type": "markdown",
      "source": [
        "**MODEL** **BUILDING**"
      ],
      "metadata": {
        "id": "zTalFL26YvK-"
      }
    },
    {
      "cell_type": "code",
      "source": [
        "#Initialising the Model\n",
        "model = Sequential()\n",
        "#Adding layers\n",
        "model.add(LSTM(512, input_shape=(X.shape[1], X.shape[2]), return_sequences=True))\n",
        "model.add(Dropout(0.1))\n",
        "model.add(LSTM(256))\n",
        "model.add(Dense(256))\n",
        "model.add(Dropout(0.1))\n",
        "model.add(Dense(y.shape[1], activation='softmax'))\n",
        "#Compiling the model for training\n",
        "opt = Adamax(learning_rate=0.01)\n",
        "model.compile(loss='categorical_crossentropy', optimizer=opt)\n"
      ],
      "metadata": {
        "id": "azEEoc2_AIjM"
      },
      "execution_count": null,
      "outputs": []
    },
    {
      "cell_type": "code",
      "source": [
        "#Model's Summary\n",
        "model.summary()"
      ],
      "metadata": {
        "colab": {
          "base_uri": "https://localhost:8080/"
        },
        "id": "pHmY31mVY-SY",
        "outputId": "9b49115b-9608-4881-8fe9-70bb220c8122"
      },
      "execution_count": null,
      "outputs": [
        {
          "output_type": "stream",
          "name": "stdout",
          "text": [
            "Model: \"sequential\"\n",
            "_________________________________________________________________\n",
            " Layer (type)                Output Shape              Param #   \n",
            "=================================================================\n",
            " lstm (LSTM)                 (None, 40, 512)           1052672   \n",
            "                                                                 \n",
            " dropout (Dropout)           (None, 40, 512)           0         \n",
            "                                                                 \n",
            " lstm_1 (LSTM)               (None, 256)               787456    \n",
            "                                                                 \n",
            " dense (Dense)               (None, 256)               65792     \n",
            "                                                                 \n",
            " dropout_1 (Dropout)         (None, 256)               0         \n",
            "                                                                 \n",
            " dense_1 (Dense)             (None, 127)               32639     \n",
            "                                                                 \n",
            "=================================================================\n",
            "Total params: 1938559 (7.40 MB)\n",
            "Trainable params: 1938559 (7.40 MB)\n",
            "Non-trainable params: 0 (0.00 Byte)\n",
            "_________________________________________________________________\n"
          ]
        }
      ]
    },
    {
      "cell_type": "code",
      "source": [
        "\n",
        "#Training the Model\n",
        "history = model.fit(X_train, y_train, batch_size=256, epochs=200)"
      ],
      "metadata": {
        "colab": {
          "base_uri": "https://localhost:8080/"
        },
        "id": "BRknDiKMAM7q",
        "outputId": "8ff4983a-6ae8-4e85-ad82-bed5c761610d"
      },
      "execution_count": null,
      "outputs": [
        {
          "output_type": "stream",
          "name": "stdout",
          "text": [
            "Epoch 1/200\n",
            "166/166 [==============================] - 12s 42ms/step - loss: 4.6654\n",
            "Epoch 2/200\n",
            "166/166 [==============================] - 7s 41ms/step - loss: 4.5553\n",
            "Epoch 3/200\n",
            "166/166 [==============================] - 7s 41ms/step - loss: 4.4147\n",
            "Epoch 4/200\n",
            "166/166 [==============================] - 7s 41ms/step - loss: 4.3874\n",
            "Epoch 5/200\n",
            "166/166 [==============================] - 7s 42ms/step - loss: 4.3770\n",
            "Epoch 6/200\n",
            "166/166 [==============================] - 7s 42ms/step - loss: 4.3724\n",
            "Epoch 7/200\n",
            "166/166 [==============================] - 7s 42ms/step - loss: 4.3565\n",
            "Epoch 8/200\n",
            "166/166 [==============================] - 7s 43ms/step - loss: 4.3503\n",
            "Epoch 9/200\n",
            "166/166 [==============================] - 7s 43ms/step - loss: 4.3381\n",
            "Epoch 10/200\n",
            "166/166 [==============================] - 7s 44ms/step - loss: 4.3154\n",
            "Epoch 11/200\n",
            "166/166 [==============================] - 7s 44ms/step - loss: 4.2888\n",
            "Epoch 12/200\n",
            "166/166 [==============================] - 7s 44ms/step - loss: 4.2623\n",
            "Epoch 13/200\n",
            "166/166 [==============================] - 7s 44ms/step - loss: 4.2248\n",
            "Epoch 14/200\n",
            "166/166 [==============================] - 7s 45ms/step - loss: 4.1597\n",
            "Epoch 15/200\n",
            "166/166 [==============================] - 7s 45ms/step - loss: 4.0835\n",
            "Epoch 16/200\n",
            "166/166 [==============================] - 8s 45ms/step - loss: 3.9927\n",
            "Epoch 17/200\n",
            "166/166 [==============================] - 8s 46ms/step - loss: 3.8711\n",
            "Epoch 18/200\n",
            "166/166 [==============================] - 8s 46ms/step - loss: 3.7228\n",
            "Epoch 19/200\n",
            "166/166 [==============================] - 8s 46ms/step - loss: 3.5285\n",
            "Epoch 20/200\n",
            "166/166 [==============================] - 8s 46ms/step - loss: 3.3306\n",
            "Epoch 21/200\n",
            "166/166 [==============================] - 8s 46ms/step - loss: 3.1196\n",
            "Epoch 22/200\n",
            "166/166 [==============================] - 8s 45ms/step - loss: 2.9000\n",
            "Epoch 23/200\n",
            "166/166 [==============================] - 8s 46ms/step - loss: 2.6868\n",
            "Epoch 24/200\n",
            "166/166 [==============================] - 8s 45ms/step - loss: 2.4967\n",
            "Epoch 25/200\n",
            "166/166 [==============================] - 8s 46ms/step - loss: 2.3195\n",
            "Epoch 26/200\n",
            "166/166 [==============================] - 8s 46ms/step - loss: 2.1496\n",
            "Epoch 27/200\n",
            "166/166 [==============================] - 8s 46ms/step - loss: 1.9918\n",
            "Epoch 28/200\n",
            "166/166 [==============================] - 8s 46ms/step - loss: 1.8465\n",
            "Epoch 29/200\n",
            "166/166 [==============================] - 8s 46ms/step - loss: 1.7160\n",
            "Epoch 30/200\n",
            "166/166 [==============================] - 8s 46ms/step - loss: 1.5917\n",
            "Epoch 31/200\n",
            "166/166 [==============================] - 8s 46ms/step - loss: 1.4779\n",
            "Epoch 32/200\n",
            "166/166 [==============================] - 8s 46ms/step - loss: 1.3723\n",
            "Epoch 33/200\n",
            "166/166 [==============================] - 8s 46ms/step - loss: 1.2750\n",
            "Epoch 34/200\n",
            "166/166 [==============================] - 8s 45ms/step - loss: 1.1757\n",
            "Epoch 35/200\n",
            "166/166 [==============================] - 8s 46ms/step - loss: 1.0845\n",
            "Epoch 36/200\n",
            "166/166 [==============================] - 8s 45ms/step - loss: 1.0161\n",
            "Epoch 37/200\n",
            "166/166 [==============================] - 8s 46ms/step - loss: 0.9490\n",
            "Epoch 38/200\n",
            "166/166 [==============================] - 8s 45ms/step - loss: 0.8755\n",
            "Epoch 39/200\n",
            "166/166 [==============================] - 8s 46ms/step - loss: 0.8121\n",
            "Epoch 40/200\n",
            "166/166 [==============================] - 8s 46ms/step - loss: 0.7567\n",
            "Epoch 41/200\n",
            "166/166 [==============================] - 8s 46ms/step - loss: 0.7200\n",
            "Epoch 42/200\n",
            "166/166 [==============================] - 8s 46ms/step - loss: 0.6586\n",
            "Epoch 43/200\n",
            "166/166 [==============================] - 8s 45ms/step - loss: 0.6250\n",
            "Epoch 44/200\n",
            "166/166 [==============================] - 8s 46ms/step - loss: 0.5914\n",
            "Epoch 45/200\n",
            "166/166 [==============================] - 8s 45ms/step - loss: 0.5449\n",
            "Epoch 46/200\n",
            "166/166 [==============================] - 8s 46ms/step - loss: 0.5306\n",
            "Epoch 47/200\n",
            "166/166 [==============================] - 8s 45ms/step - loss: 0.4903\n",
            "Epoch 48/200\n",
            "166/166 [==============================] - 8s 46ms/step - loss: 0.4795\n",
            "Epoch 49/200\n",
            "166/166 [==============================] - 8s 46ms/step - loss: 0.4342\n",
            "Epoch 50/200\n",
            "166/166 [==============================] - 8s 45ms/step - loss: 0.4287\n",
            "Epoch 51/200\n",
            "166/166 [==============================] - 8s 46ms/step - loss: 0.4047\n",
            "Epoch 52/200\n",
            "166/166 [==============================] - 8s 45ms/step - loss: 0.3888\n",
            "Epoch 53/200\n",
            "166/166 [==============================] - 8s 46ms/step - loss: 0.3644\n",
            "Epoch 54/200\n",
            "166/166 [==============================] - 8s 45ms/step - loss: 0.3572\n",
            "Epoch 55/200\n",
            "166/166 [==============================] - 8s 46ms/step - loss: 0.3393\n",
            "Epoch 56/200\n",
            "166/166 [==============================] - 8s 46ms/step - loss: 0.3274\n",
            "Epoch 57/200\n",
            "166/166 [==============================] - 8s 46ms/step - loss: 0.3244\n",
            "Epoch 58/200\n",
            "166/166 [==============================] - 8s 46ms/step - loss: 0.3229\n",
            "Epoch 59/200\n",
            "166/166 [==============================] - 8s 46ms/step - loss: 0.2998\n",
            "Epoch 60/200\n",
            "166/166 [==============================] - 8s 46ms/step - loss: 0.2980\n",
            "Epoch 61/200\n",
            "166/166 [==============================] - 8s 46ms/step - loss: 0.2786\n",
            "Epoch 62/200\n",
            "166/166 [==============================] - 8s 46ms/step - loss: 0.2748\n",
            "Epoch 63/200\n",
            "166/166 [==============================] - 8s 46ms/step - loss: 0.2790\n",
            "Epoch 64/200\n",
            "166/166 [==============================] - 8s 46ms/step - loss: 0.2749\n",
            "Epoch 65/200\n",
            "166/166 [==============================] - 8s 46ms/step - loss: 0.2506\n",
            "Epoch 66/200\n",
            "166/166 [==============================] - 8s 46ms/step - loss: 0.2505\n",
            "Epoch 67/200\n",
            "166/166 [==============================] - 8s 46ms/step - loss: 0.2399\n",
            "Epoch 68/200\n",
            "166/166 [==============================] - 8s 45ms/step - loss: 0.2506\n",
            "Epoch 69/200\n",
            "166/166 [==============================] - 8s 46ms/step - loss: 0.2286\n",
            "Epoch 70/200\n",
            "166/166 [==============================] - 8s 45ms/step - loss: 0.2294\n",
            "Epoch 71/200\n",
            "166/166 [==============================] - 8s 46ms/step - loss: 0.2260\n",
            "Epoch 72/200\n",
            "166/166 [==============================] - 8s 46ms/step - loss: 0.2196\n",
            "Epoch 73/200\n",
            "166/166 [==============================] - 8s 46ms/step - loss: 0.2145\n",
            "Epoch 74/200\n",
            "166/166 [==============================] - 8s 46ms/step - loss: 0.2073\n",
            "Epoch 75/200\n",
            "166/166 [==============================] - 8s 45ms/step - loss: 0.1977\n",
            "Epoch 76/200\n",
            "166/166 [==============================] - 8s 46ms/step - loss: 0.2166\n",
            "Epoch 77/200\n",
            "166/166 [==============================] - 8s 46ms/step - loss: 0.1945\n",
            "Epoch 78/200\n",
            "166/166 [==============================] - 8s 46ms/step - loss: 0.2036\n",
            "Epoch 79/200\n",
            "166/166 [==============================] - 8s 46ms/step - loss: 0.1781\n",
            "Epoch 80/200\n",
            "166/166 [==============================] - 8s 46ms/step - loss: 0.1818\n",
            "Epoch 81/200\n",
            "166/166 [==============================] - 8s 46ms/step - loss: 0.1958\n",
            "Epoch 82/200\n",
            "166/166 [==============================] - 8s 45ms/step - loss: 0.1813\n",
            "Epoch 83/200\n",
            "166/166 [==============================] - 8s 46ms/step - loss: 0.1828\n",
            "Epoch 84/200\n",
            "166/166 [==============================] - 8s 45ms/step - loss: 0.1790\n",
            "Epoch 85/200\n",
            "166/166 [==============================] - 8s 46ms/step - loss: 0.1754\n",
            "Epoch 86/200\n",
            "166/166 [==============================] - 8s 46ms/step - loss: 0.1783\n",
            "Epoch 87/200\n",
            "166/166 [==============================] - 8s 46ms/step - loss: 0.1701\n",
            "Epoch 88/200\n",
            "166/166 [==============================] - 8s 46ms/step - loss: 0.1557\n",
            "Epoch 89/200\n",
            "166/166 [==============================] - 8s 45ms/step - loss: 0.1620\n",
            "Epoch 90/200\n",
            "166/166 [==============================] - 8s 46ms/step - loss: 0.1614\n",
            "Epoch 91/200\n",
            "166/166 [==============================] - 8s 45ms/step - loss: 0.1485\n",
            "Epoch 92/200\n",
            "166/166 [==============================] - 8s 46ms/step - loss: 0.1583\n",
            "Epoch 93/200\n",
            "166/166 [==============================] - 8s 46ms/step - loss: 0.1589\n",
            "Epoch 94/200\n",
            "166/166 [==============================] - 8s 46ms/step - loss: 0.1514\n",
            "Epoch 95/200\n",
            "166/166 [==============================] - 8s 46ms/step - loss: 0.1401\n",
            "Epoch 96/200\n",
            "166/166 [==============================] - 8s 46ms/step - loss: 0.1460\n",
            "Epoch 97/200\n",
            "166/166 [==============================] - 8s 46ms/step - loss: 0.1515\n",
            "Epoch 98/200\n",
            "166/166 [==============================] - 8s 46ms/step - loss: 0.1418\n",
            "Epoch 99/200\n",
            "166/166 [==============================] - 8s 46ms/step - loss: 0.1430\n",
            "Epoch 100/200\n",
            "166/166 [==============================] - 8s 46ms/step - loss: 0.1355\n",
            "Epoch 101/200\n",
            "166/166 [==============================] - 8s 46ms/step - loss: 0.1347\n",
            "Epoch 102/200\n",
            "166/166 [==============================] - 8s 46ms/step - loss: 0.1336\n",
            "Epoch 103/200\n",
            "166/166 [==============================] - 8s 46ms/step - loss: 0.1362\n",
            "Epoch 104/200\n",
            "166/166 [==============================] - 8s 46ms/step - loss: 0.1445\n",
            "Epoch 105/200\n",
            "166/166 [==============================] - 8s 45ms/step - loss: 0.1262\n",
            "Epoch 106/200\n",
            "166/166 [==============================] - 8s 46ms/step - loss: 0.1331\n",
            "Epoch 107/200\n",
            "166/166 [==============================] - 8s 46ms/step - loss: 0.1248\n",
            "Epoch 108/200\n",
            "166/166 [==============================] - 8s 46ms/step - loss: 0.1227\n",
            "Epoch 109/200\n",
            "166/166 [==============================] - 8s 46ms/step - loss: 0.1347\n",
            "Epoch 110/200\n",
            "166/166 [==============================] - 8s 46ms/step - loss: 0.1226\n",
            "Epoch 111/200\n",
            "166/166 [==============================] - 8s 46ms/step - loss: 0.1296\n",
            "Epoch 112/200\n",
            "166/166 [==============================] - 8s 46ms/step - loss: 0.1310\n",
            "Epoch 113/200\n",
            "166/166 [==============================] - 8s 47ms/step - loss: 0.1242\n",
            "Epoch 114/200\n",
            "166/166 [==============================] - 8s 46ms/step - loss: 0.1196\n",
            "Epoch 115/200\n",
            "166/166 [==============================] - 8s 46ms/step - loss: 0.1154\n",
            "Epoch 116/200\n",
            "166/166 [==============================] - 8s 46ms/step - loss: 0.1148\n",
            "Epoch 117/200\n",
            "166/166 [==============================] - 8s 46ms/step - loss: 0.1220\n",
            "Epoch 118/200\n",
            "166/166 [==============================] - 8s 46ms/step - loss: 0.1186\n",
            "Epoch 119/200\n",
            "166/166 [==============================] - 8s 45ms/step - loss: 0.1132\n",
            "Epoch 120/200\n",
            "166/166 [==============================] - 8s 46ms/step - loss: 0.1164\n",
            "Epoch 121/200\n",
            "166/166 [==============================] - 8s 45ms/step - loss: 0.0912\n",
            "Epoch 122/200\n",
            "166/166 [==============================] - 8s 46ms/step - loss: 0.0881\n",
            "Epoch 123/200\n",
            "166/166 [==============================] - 8s 46ms/step - loss: 0.0869\n",
            "Epoch 124/200\n",
            "166/166 [==============================] - 8s 45ms/step - loss: 0.0970\n",
            "Epoch 125/200\n",
            "166/166 [==============================] - 8s 46ms/step - loss: 0.0964\n",
            "Epoch 126/200\n",
            "166/166 [==============================] - 8s 45ms/step - loss: 0.1034\n",
            "Epoch 127/200\n",
            "166/166 [==============================] - 8s 46ms/step - loss: 0.1106\n",
            "Epoch 128/200\n",
            "166/166 [==============================] - 8s 46ms/step - loss: 0.1074\n",
            "Epoch 129/200\n",
            "166/166 [==============================] - 8s 46ms/step - loss: 0.0986\n",
            "Epoch 130/200\n",
            "166/166 [==============================] - 8s 46ms/step - loss: 0.0905\n",
            "Epoch 131/200\n",
            "166/166 [==============================] - 8s 46ms/step - loss: 0.0843\n",
            "Epoch 132/200\n",
            "166/166 [==============================] - 8s 46ms/step - loss: 0.1115\n",
            "Epoch 133/200\n",
            "166/166 [==============================] - 8s 46ms/step - loss: 0.0960\n",
            "Epoch 134/200\n",
            "166/166 [==============================] - 8s 46ms/step - loss: 0.1027\n",
            "Epoch 135/200\n",
            "166/166 [==============================] - 8s 45ms/step - loss: 0.1091\n",
            "Epoch 136/200\n",
            "166/166 [==============================] - 8s 46ms/step - loss: 0.0956\n",
            "Epoch 137/200\n",
            "166/166 [==============================] - 8s 46ms/step - loss: 0.1008\n",
            "Epoch 138/200\n",
            "166/166 [==============================] - 8s 46ms/step - loss: 0.0917\n",
            "Epoch 139/200\n",
            "166/166 [==============================] - 8s 46ms/step - loss: 0.1013\n",
            "Epoch 140/200\n",
            "166/166 [==============================] - 8s 46ms/step - loss: 0.0963\n",
            "Epoch 141/200\n",
            "166/166 [==============================] - 8s 46ms/step - loss: 0.0972\n",
            "Epoch 142/200\n",
            "166/166 [==============================] - 8s 45ms/step - loss: 0.0943\n",
            "Epoch 143/200\n",
            "166/166 [==============================] - 8s 46ms/step - loss: 0.0953\n",
            "Epoch 144/200\n",
            "166/166 [==============================] - 8s 46ms/step - loss: 0.0979\n",
            "Epoch 145/200\n",
            "166/166 [==============================] - 8s 46ms/step - loss: 0.0974\n",
            "Epoch 146/200\n",
            "166/166 [==============================] - 8s 46ms/step - loss: 0.0990\n",
            "Epoch 147/200\n",
            "166/166 [==============================] - 8s 46ms/step - loss: 0.0994\n",
            "Epoch 148/200\n",
            "166/166 [==============================] - 8s 46ms/step - loss: 0.0826\n",
            "Epoch 149/200\n",
            "166/166 [==============================] - 8s 46ms/step - loss: 0.0851\n",
            "Epoch 150/200\n",
            "166/166 [==============================] - 8s 46ms/step - loss: 0.0880\n",
            "Epoch 151/200\n",
            "166/166 [==============================] - 8s 46ms/step - loss: 0.0916\n",
            "Epoch 152/200\n",
            "166/166 [==============================] - 8s 46ms/step - loss: 0.0921\n",
            "Epoch 153/200\n",
            "166/166 [==============================] - 8s 46ms/step - loss: 0.0918\n",
            "Epoch 154/200\n",
            "166/166 [==============================] - 8s 46ms/step - loss: 0.0909\n",
            "Epoch 155/200\n",
            "166/166 [==============================] - 8s 46ms/step - loss: 0.0869\n",
            "Epoch 156/200\n",
            "166/166 [==============================] - 8s 45ms/step - loss: 0.0812\n",
            "Epoch 157/200\n",
            "166/166 [==============================] - 8s 46ms/step - loss: 0.0810\n",
            "Epoch 158/200\n",
            "166/166 [==============================] - 8s 46ms/step - loss: 0.0837\n",
            "Epoch 159/200\n",
            "166/166 [==============================] - 8s 46ms/step - loss: 0.0753\n",
            "Epoch 160/200\n",
            "166/166 [==============================] - 8s 46ms/step - loss: 0.0828\n",
            "Epoch 161/200\n",
            "166/166 [==============================] - 8s 46ms/step - loss: 0.0833\n",
            "Epoch 162/200\n",
            "166/166 [==============================] - 8s 46ms/step - loss: 0.0759\n",
            "Epoch 163/200\n",
            "166/166 [==============================] - 8s 46ms/step - loss: 0.0941\n",
            "Epoch 164/200\n",
            "166/166 [==============================] - 8s 46ms/step - loss: 0.0758\n",
            "Epoch 165/200\n",
            "166/166 [==============================] - 8s 46ms/step - loss: 0.0790\n",
            "Epoch 166/200\n",
            "166/166 [==============================] - 8s 46ms/step - loss: 0.0783\n",
            "Epoch 167/200\n",
            "166/166 [==============================] - 8s 46ms/step - loss: 0.0819\n",
            "Epoch 168/200\n",
            "166/166 [==============================] - 8s 46ms/step - loss: 0.0862\n",
            "Epoch 169/200\n",
            "166/166 [==============================] - 8s 46ms/step - loss: 0.0832\n",
            "Epoch 170/200\n",
            "166/166 [==============================] - 8s 46ms/step - loss: 0.0804\n",
            "Epoch 171/200\n",
            "166/166 [==============================] - 8s 46ms/step - loss: 0.0743\n",
            "Epoch 172/200\n",
            "166/166 [==============================] - 8s 46ms/step - loss: 0.0726\n",
            "Epoch 173/200\n",
            "166/166 [==============================] - 8s 46ms/step - loss: 0.0833\n",
            "Epoch 174/200\n",
            "166/166 [==============================] - 8s 46ms/step - loss: 0.0822\n",
            "Epoch 175/200\n",
            "166/166 [==============================] - 8s 46ms/step - loss: 0.0707\n",
            "Epoch 176/200\n",
            "166/166 [==============================] - 8s 46ms/step - loss: 0.0716\n",
            "Epoch 177/200\n",
            "166/166 [==============================] - 8s 45ms/step - loss: 0.0722\n",
            "Epoch 178/200\n",
            "166/166 [==============================] - 8s 46ms/step - loss: 0.0718\n",
            "Epoch 179/200\n",
            "166/166 [==============================] - 8s 45ms/step - loss: 0.0798\n",
            "Epoch 180/200\n",
            "166/166 [==============================] - 8s 46ms/step - loss: 0.0734\n",
            "Epoch 181/200\n",
            "166/166 [==============================] - 8s 46ms/step - loss: 0.0793\n",
            "Epoch 182/200\n",
            "166/166 [==============================] - 8s 46ms/step - loss: 0.0719\n",
            "Epoch 183/200\n",
            "166/166 [==============================] - 8s 46ms/step - loss: 0.0752\n",
            "Epoch 184/200\n",
            "166/166 [==============================] - 8s 46ms/step - loss: 0.0722\n",
            "Epoch 185/200\n",
            "166/166 [==============================] - 8s 46ms/step - loss: 0.0701\n",
            "Epoch 186/200\n",
            "166/166 [==============================] - 8s 45ms/step - loss: 0.0698\n",
            "Epoch 187/200\n",
            "166/166 [==============================] - 8s 46ms/step - loss: 0.0714\n",
            "Epoch 188/200\n",
            "166/166 [==============================] - 8s 46ms/step - loss: 0.0759\n",
            "Epoch 189/200\n",
            "166/166 [==============================] - 8s 46ms/step - loss: 0.0750\n",
            "Epoch 190/200\n",
            "166/166 [==============================] - 8s 46ms/step - loss: 0.0680\n",
            "Epoch 191/200\n",
            "166/166 [==============================] - 8s 45ms/step - loss: 0.0759\n",
            "Epoch 192/200\n",
            "166/166 [==============================] - 8s 46ms/step - loss: 0.0716\n",
            "Epoch 193/200\n",
            "166/166 [==============================] - 8s 45ms/step - loss: 0.0679\n",
            "Epoch 194/200\n",
            "166/166 [==============================] - 8s 46ms/step - loss: 0.0620\n",
            "Epoch 195/200\n",
            "166/166 [==============================] - 8s 45ms/step - loss: 0.0671\n",
            "Epoch 196/200\n",
            "166/166 [==============================] - 8s 46ms/step - loss: 0.0670\n",
            "Epoch 197/200\n",
            "166/166 [==============================] - 8s 46ms/step - loss: 0.0714\n",
            "Epoch 198/200\n",
            "166/166 [==============================] - 8s 45ms/step - loss: 0.0637\n",
            "Epoch 199/200\n",
            "166/166 [==============================] - 8s 46ms/step - loss: 0.0704\n",
            "Epoch 200/200\n",
            "166/166 [==============================] - 8s 46ms/step - loss: 0.0682\n"
          ]
        }
      ]
    },
    {
      "cell_type": "code",
      "source": [
        "#Plotting the learnings\n",
        "history_df = pd.DataFrame(history.history)\n",
        "fig = plt.figure(figsize=(15,4), facecolor=\"#97BACB\")\n",
        "fig.suptitle(\"Learning Plot of Model for Loss\")\n",
        "pl=sns.lineplot(data=history_df[\"loss\"],color=\"#444160\")\n",
        "pl.set(ylabel =\"Training Loss\")\n",
        "pl.set(xlabel =\"Epochs\")"
      ],
      "metadata": {
        "colab": {
          "base_uri": "https://localhost:8080/",
          "height": 446
        },
        "id": "Mz7yV5N2FqGT",
        "outputId": "bd549284-c4b7-4bfe-85f3-cdf431e5cf56"
      },
      "execution_count": null,
      "outputs": [
        {
          "output_type": "execute_result",
          "data": {
            "text/plain": [
              "[Text(0.5, 0, 'Epochs')]"
            ]
          },
          "metadata": {},
          "execution_count": 29
        },
        {
          "output_type": "display_data",
          "data": {
            "text/plain": [
              "<Figure size 1500x400 with 1 Axes>"
            ],
            "image/png": "[encoded data removed]"
          },
          "metadata": {
            "image/png": {
              "width": 1220,
              "height": 411
            }
          }
        }
      ]
    },
    {
      "cell_type": "code",
      "source": [
        "def Malody_Generator(Note_Count):\n",
        "    seed = X_seed[np.random.randint(0,len(X_seed)-1)]\n",
        "    Music = \"\"\n",
        "    Notes_Generated=[]\n",
        "    for i in range(Note_Count):\n",
        "        seed = seed.reshape(1,length,1)\n",
        "        prediction = model.predict(seed, verbose=0)[0]\n",
        "        prediction = np.log(prediction) / 1.0 #diversity\n",
        "        exp_preds = np.exp(prediction)\n",
        "        prediction = exp_preds / np.sum(exp_preds)\n",
        "        index = np.argmax(prediction)\n",
        "        index_N = index/ float(L_symb)\n",
        "        Notes_Generated.append(index)\n",
        "        Music = [reverse_mapping[char] for char in Notes_Generated]\n",
        "        seed = np.insert(seed[0],len(seed[0]),index_N)\n",
        "        seed = seed[1:]\n",
        "    #Now, we have music in form or a list of chords and notes and we want to be a midi file.\n",
        "    Melody = chords_n_notes(Music)\n",
        "    Melody_midi = stream.Stream(Melody)\n",
        "    return Music,Melody_midi\n",
        "\n",
        "\n",
        "#getting the Notes and Melody created by the model\n",
        "Music_notes, Melody = Malody_Generator(100)\n",
        "show(Melody)"
      ],
      "metadata": {
        "colab": {
          "base_uri": "https://localhost:8080/",
          "height": 468
        },
        "id": "y0iXsW7YGmRy",
        "outputId": "eec0dd10-dfcd-4faa-8722-f90f1c57797e"
      },
      "execution_count": null,
      "outputs": [
        {
          "output_type": "display_data",
          "data": {
            "image/png": "[encoded data removed]",
            "text/plain": [
              "<IPython.core.display.Image object>"
            ]
          },
          "metadata": {}
        }
      ]
    },
    {
      "cell_type": "code",
      "source": [
        "Melody.write('midi','Melody_Generated.mid')"
      ],
      "metadata": {
        "colab": {
          "base_uri": "https://localhost:8080/",
          "height": 35
        },
        "id": "IHM87DgWfEi_",
        "outputId": "2d41460e-ba49-4b78-d082-9133bc7e10de"
      },
      "execution_count": null,
      "outputs": [
        {
          "output_type": "execute_result",
          "data": {
            "text/plain": [
              "'Melody_Generated.mid'"
            ],
            "application/vnd.google.colaboratory.intrinsic+json": {
              "type": "string"
            }
          },
          "metadata": {},
          "execution_count": 31
        }
      ]
    },
    {
      "cell_type": "code",
      "source": [
        "IPython.display.Audio('Melody_Generated.mid')"
      ],
      "metadata": {
        "colab": {
          "base_uri": "https://localhost:8080/",
          "height": 75
        },
        "id": "WbEWpAGafMBK",
        "outputId": "257dddfe-ed2f-4016-e909-72dfd98d7be4"
      },
      "execution_count": null,
      "outputs": [
        {
          "output_type": "execute_result",
          "data": {
            "text/plain": [
              "<IPython.lib.display.Audio object>"
            ],
            "text/html": [
              "\n",
              "                <audio  controls=\"controls\" >\n",
              "                    <source src=\"data:audio/sp-midi;base64,TVRoZAAAAAYAAQACJ2BNVHJrAAAAFAD/UQMHoSAA/1gEBAIYCM5g/y8ATVRyawAABPEA/wMAAOAAQACQVFrOYIBUAACQUlrOYIBSAACQP1oAkD9aAJBFWs5ggD8AAIA/AACARQAAkFBazmCAUAAAkFVazmCAVQAAkEJazmCAQgAAkFBazmCAUAAAkFVazmCAVQAAkEFazmCAQQAAkFBazmCAUAAAkDJazmCAMgAAkD5azmCAPgAAkEpazmCASgAAkFFazmCAUQAAkFFazmCAUQAAkE9azmCATwAAkE9azmCATwAAkD5azmCAPgAAkFFazmCAUQAAkFFazmCAUQAAkEJaAJBCWgCQRVrOYIBCAACAQgAAgEUAAJBPWs5ggE8AAJA8Ws5ggDwAAJA+Ws5ggD4AAJBOWs5ggE4AAJA3Ws5ggDcAAJBQWs5ggFAAAJBNWs5ggE0AAJBbWs5ggFsAAJA8Ws5ggDwAAJBGWs5ggEYAAJArWs5ggCsAAJBEWs5ggEQAAJA9WgCQPVoAkEFaAJA9WgCQQVoAkERazmCAPQAAgD0AAIBBAACAPQAAgEEAAIBEAACQTVrOYIBNAACQS1rOYIBLAACQP1rOYIA/AACQPFoAkDxaAJA/Ws5ggDwAAIA8AACAPwAAkEZazmCARgAAkDxaAJA8WgCQP1rOYIA8AACAPAAAgD8AAJApWs5ggCkAAJA1Ws5ggDUAAJBAWgCQQFoAkERazmCAQAAAgEAAAIBEAACQN1rOYIA3AACQRFoAkERaAJA8Ws5ggEQAAIBEAACAPAAAkDdazmCANwAAkClazmCAKQAAkDhazmCAOAAAkDVazmCANQAAkE1azmCATQAAkEFazmCAQQAAkEFazmCAQQAAkEFazmCAQQAAkERaAJBEWgCQPVrOYIBEAACARAAAgD0AAJBBWs5ggEEAAJA9Ws5ggD0AAJBEWgCQRFoAkDxaAJBEWgCQPFoAkD9azmCARAAAgEQAAIA8AACARAAAgDwAAIA/AACQOFrOYIA4AACQM1rOYIAzAACQVFrOYIBUAACQJ1rOYIAnAACQQVoAkEFaAJBHWs5ggEEAAIBBAACARwAAkDhazmCAOAAAkDNazmCAMwAAkEFaAJBBWgCQR1rOYIBBAACAQQAAgEcAAJA3Ws5ggDcAAJA7Ws5ggDsAAJA2Ws5ggDYAAJBUWs5ggFQAAJAsWs5ggCwAAJA1Ws5ggDUAAJBCWgCQQloAkEZazmCAQgAAgEIAAIBGAACQLFrOYIAsAACQPFrOYIA8AACQQloAkEJaAJBGWs5ggEIAAIBCAACARgAAkDdazmCANwAAkD9azmCAPwAAkDVazmCANQAAkD1aAJA9WgCQQ1rOYIA9AACAPQAAgEMAAJAsWs5ggCwAAJBBWgCQQVoAkERazmCAQQAAgEEAAIBEAACQN1rOYIA3AACQM1rOYIAzAACQP1oAkD9aAJBEWs5ggD8AAIA/AACARAAAkDxazmCAPAAAkEFaAJBBWgCQR1rOYIBBAACAQQAAgEcAAJA2Ws5ggDYAAJBQWs5ggFAAAJA4Ws5ggDgAAJA/Ws5ggD8AAJA8Ws5ggDwAAJBGWs5ggEYAAJAsWs5ggCwAAJA/WgCQP1oAkEJazmCAPwAAgD8AAIBCAACQOFrOYIA4AACQOFrOYIA4AACQQVoAkEFaAJBEWs5ggEEAAIBBAACARAAAkDxazmCAPAAAkEFazmCAQQAAkDVazmCANQDOYP8vAA==\" type=\"audio/sp-midi\" />\n",
              "                    Your browser does not support the audio element.\n",
              "                </audio>\n",
              "              "
            ]
          },
          "metadata": {},
          "execution_count": 32
        }
      ]
    },
    {
      "cell_type": "code",
      "source": [
        "from google.colab import files\n",
        "files.download('/content/Melody_Generated.mid')\n"
      ],
      "metadata": {
        "colab": {
          "base_uri": "https://localhost:8080/",
          "height": 17
        },
        "id": "PEkePK4VfgrO",
        "outputId": "7dec4361-fd85-4ff8-c26b-2cd5f3219c99"
      },
      "execution_count": null,
      "outputs": [
        {
          "output_type": "display_data",
          "data": {
            "text/plain": [
              "<IPython.core.display.Javascript object>"
            ],
            "application/javascript": [
              "\n",
              "    async function download(id, filename, size) {\n",
              "      if (!google.colab.kernel.accessAllowed) {\n",
              "        return;\n",
              "      }\n",
              "      const div = document.createElement('div');\n",
              "      const label = document.createElement('label');\n",
              "      label.textContent = `Downloading \"${filename}\": `;\n",
              "      div.appendChild(label);\n",
              "      const progress = document.createElement('progress');\n",
              "      progress.max = size;\n",
              "      div.appendChild(progress);\n",
              "      document.body.appendChild(div);\n",
              "\n",
              "      const buffers = [];\n",
              "      let downloaded = 0;\n",
              "\n",
              "      const channel = await google.colab.kernel.comms.open(id);\n",
              "      // Send a message to notify the kernel that we're ready.\n",
              "      channel.send({})\n",
              "\n",
              "      for await (const message of channel.messages) {\n",
              "        // Send a message to notify the kernel that we're ready.\n",
              "        channel.send({})\n",
              "        if (message.buffers) {\n",
              "          for (const buffer of message.buffers) {\n",
              "            buffers.push(buffer);\n",
              "            downloaded += buffer.byteLength;\n",
              "            progress.value = downloaded;\n",
              "          }\n",
              "        }\n",
              "      }\n",
              "      const blob = new Blob(buffers, {type: 'application/binary'});\n",
              "      const a = document.createElement('a');\n",
              "      a.href = window.URL.createObjectURL(blob);\n",
              "      a.download = filename;\n",
              "      div.appendChild(a);\n",
              "      a.click();\n",
              "      div.remove();\n",
              "    }\n",
              "  "
            ]
          },
          "metadata": {}
        },
        {
          "output_type": "display_data",
          "data": {
            "text/plain": [
              "<IPython.core.display.Javascript object>"
            ],
            "application/javascript": [
              "download(\"download_2546aa75-d22f-47a2-9dea-04c381b2cc02\", \"Melody_Generated.mid\", 1315)"
            ]
          },
          "metadata": {}
        }
      ]
    }
  ]
}